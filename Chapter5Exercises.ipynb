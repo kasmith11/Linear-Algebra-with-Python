{
 "cells": [
  {
   "cell_type": "code",
   "execution_count": 1,
   "metadata": {},
   "outputs": [],
   "source": [
    "import numpy as np"
   ]
  },
  {
   "cell_type": "markdown",
   "metadata": {},
   "source": [
    "# Transposing Matrices"
   ]
  },
  {
   "cell_type": "code",
   "execution_count": 2,
   "metadata": {},
   "outputs": [
    {
     "name": "stdout",
     "output_type": "stream",
     "text": [
      "(3, 6)\n",
      "(6, 3)\n"
     ]
    }
   ],
   "source": [
    "matrix = np.random.randn(3,6)\n",
    "print(matrix.shape)\n",
    "\n",
    "#Transpose matrix - rows become columns, columns become rows\n",
    "print(matrix.T.shape)"
   ]
  },
  {
   "cell_type": "markdown",
   "metadata": {},
   "source": [
    "# Identity, Ones, and Zeros Matrices"
   ]
  },
  {
   "cell_type": "code",
   "execution_count": 4,
   "metadata": {},
   "outputs": [
    {
     "name": "stdout",
     "output_type": "stream",
     "text": [
      "[[1. 0. 0. 0.]\n",
      " [0. 1. 0. 0.]\n",
      " [0. 0. 1. 0.]\n",
      " [0. 0. 0. 1.]]\n",
      "[1. 1. 1. 1.]\n",
      "[[0. 0. 0. 0.]\n",
      " [0. 0. 0. 0.]\n",
      " [0. 0. 0. 0.]\n",
      " [0. 0. 0. 0.]]\n"
     ]
    }
   ],
   "source": [
    "print(np.eye(4))\n",
    "print(np.ones(4))\n",
    "print(np.zeros((4,4)))"
   ]
  },
  {
   "cell_type": "markdown",
   "metadata": {},
   "source": [
    "# Diagonal Matrix"
   ]
  },
  {
   "cell_type": "code",
   "execution_count": 7,
   "metadata": {},
   "outputs": [
    {
     "name": "stdout",
     "output_type": "stream",
     "text": [
      "[[2 0 0 0]\n",
      " [0 4 0 0]\n",
      " [0 0 6 0]\n",
      " [0 0 0 8]]\n",
      "[[ 0.72877781 -0.80770337  0.47585919 -1.35110008]\n",
      " [-0.30684165 -1.33412106  0.00352233  0.56233964]\n",
      " [-0.82125132  1.93242131 -0.08018456  0.0305084 ]]\n",
      "[ 0.72877781 -1.33412106 -0.08018456]\n"
     ]
    }
   ],
   "source": [
    "print(np.diag([2,4,6,8]))\n",
    "\n",
    "R = np.random.randn(3,4)\n",
    "\n",
    "print(R)\n",
    "\n",
    "#find diagonal elements of matrix\n",
    "print(np.diag(R))\n",
    "\n"
   ]
  },
  {
   "cell_type": "markdown",
   "metadata": {},
   "source": [
    "# Augmenting (concatenating matrices)"
   ]
  },
  {
   "cell_type": "code",
   "execution_count": 9,
   "metadata": {},
   "outputs": [
    {
     "data": {
      "text/plain": [
       "(3, 11)"
      ]
     },
     "execution_count": 9,
     "metadata": {},
     "output_type": "execute_result"
    }
   ],
   "source": [
    "A = np.random.randn(3,5)\n",
    "B = np.random.randn(3,6)\n",
    "\n",
    "AB = np.concatenate([A,B], axis = 1)\n",
    "AB.shape"
   ]
  },
  {
   "cell_type": "markdown",
   "metadata": {},
   "source": [
    "# Triangular Matrix"
   ]
  },
  {
   "cell_type": "code",
   "execution_count": 2,
   "metadata": {},
   "outputs": [
    {
     "name": "stdout",
     "output_type": "stream",
     "text": [
      "[[-0.07075823  0.          0.          0.          0.        ]\n",
      " [-2.92851308 -1.21632103  0.          0.          0.        ]\n",
      " [-0.18482492 -0.89051937  0.97265124  0.          0.        ]\n",
      " [ 0.40518686 -0.31847378 -0.06777768  0.54321401  0.        ]\n",
      " [ 0.22592029  1.51254756  1.23674033 -0.27248622  0.03532642]]\n",
      "[[-0.07075823 -0.13424075  0.53588364  0.27887118 -0.13426354]\n",
      " [ 0.         -1.21632103 -0.72094901 -0.2890403   0.02684302]\n",
      " [ 0.          0.          0.97265124 -0.29444747 -1.54595336]\n",
      " [ 0.          0.          0.          0.54321401 -0.37109224]\n",
      " [ 0.          0.          0.          0.          0.03532642]]\n"
     ]
    }
   ],
   "source": [
    "matrix = np.random.randn(5,5)\n",
    "\n",
    "#Lower triangle\n",
    "print(np.tril(matrix))\n",
    "\n",
    "#Upper triangle\n",
    "print(np.triu(matrix))"
   ]
  },
  {
   "cell_type": "markdown",
   "metadata": {},
   "source": [
    "# Hankel and Toeplitz Matrices"
   ]
  },
  {
   "cell_type": "code",
   "execution_count": 3,
   "metadata": {},
   "outputs": [
    {
     "name": "stdout",
     "output_type": "stream",
     "text": [
      "[[1 2 3 4]\n",
      " [2 3 4 0]\n",
      " [3 4 0 0]\n",
      " [4 0 0 0]]\n",
      "[[1 2 3 4]\n",
      " [2 1 2 3]\n",
      " [3 2 1 2]\n",
      " [4 3 2 1]]\n"
     ]
    }
   ],
   "source": [
    "from scipy.linalg import hankel, toeplitz\n",
    "\n",
    "t = [1,2,3,4]\n",
    "\n",
    "print(hankel(t))\n",
    "print(toeplitz(t))"
   ]
  },
  {
   "cell_type": "markdown",
   "metadata": {},
   "source": [
    "# Shifting a matrix"
   ]
  },
  {
   "cell_type": "code",
   "execution_count": 5,
   "metadata": {},
   "outputs": [
    {
     "name": "stdout",
     "output_type": "stream",
     "text": [
      "[-1.96270036  0.3729371  -0.16723422 -0.69037699]\n",
      "[[-1.76270036  0.3729371  -0.16723422 -0.69037699]\n",
      " [-1.96270036  0.5729371  -0.16723422 -0.69037699]\n",
      " [-1.96270036  0.3729371   0.03276578 -0.69037699]\n",
      " [-1.96270036  0.3729371  -0.16723422 -0.49037699]]\n"
     ]
    }
   ],
   "source": [
    "y = 0.2\n",
    "identity = np.eye(4)\n",
    "matrix = np.random.randn(4)\n",
    "\n",
    "print(matrix)\n",
    "print(matrix + y*identity)"
   ]
  },
  {
   "cell_type": "markdown",
   "metadata": {},
   "source": [
    "# Calculating Trace - Sum of Diagonal"
   ]
  },
  {
   "cell_type": "code",
   "execution_count": 13,
   "metadata": {},
   "outputs": [
    {
     "name": "stdout",
     "output_type": "stream",
     "text": [
      "2.014305944575812\n"
     ]
    }
   ],
   "source": [
    "matrix = np.random.rand(4,4)\n",
    "print(np.trace(matrix))"
   ]
  },
  {
   "cell_type": "markdown",
   "metadata": {},
   "source": [
    "# Code Challenges"
   ]
  },
  {
   "cell_type": "code",
   "execution_count": 18,
   "metadata": {},
   "outputs": [
    {
     "name": "stdout",
     "output_type": "stream",
     "text": [
      "3.2736003511136706\n",
      "2.1616240892759606\n",
      "0.3351857207788501\n",
      "0.10346474601471381\n"
     ]
    }
   ],
   "source": [
    "m1 = np.random.randn(4,2)\n",
    "m2 = np.random.randn(4,2)\n",
    "\n",
    "for coli in range(2):\n",
    "    for colj in range(2):\n",
    "        print(np.dot(m1[:, coli], m2[:, colj]))"
   ]
  },
  {
   "cell_type": "code",
   "execution_count": 19,
   "metadata": {},
   "outputs": [
    {
     "name": "stdout",
     "output_type": "stream",
     "text": [
      "[[ 0.1187131  -0.71930021  0.84788428 -0.69922095 -0.74886515]\n",
      " [-0.71930021 -0.48062646 -0.72277009 -0.29471687  0.65271184]\n",
      " [ 0.84788428 -0.72277009 -2.44294801 -0.39702975 -0.08035949]\n",
      " [-0.69922095 -0.29471687 -0.39702975  0.94144045 -0.73353754]\n",
      " [-0.74886515  0.65271184 -0.08035949 -0.73353754  1.73614321]]\n"
     ]
    }
   ],
   "source": [
    "m = np.random.randn(5,5)\n",
    "\n",
    "mT = np.tril(m)\n",
    "\n",
    "print(mT + mT.T)"
   ]
  },
  {
   "cell_type": "code",
   "execution_count": 22,
   "metadata": {},
   "outputs": [
    {
     "name": "stdout",
     "output_type": "stream",
     "text": [
      "[[1. 0. 0. 0. 0. 0. 0. 0.]\n",
      " [0. 2. 0. 0. 0. 0. 0. 0.]\n",
      " [0. 0. 3. 0. 0. 0. 0. 0.]\n",
      " [0. 0. 0. 4. 0. 0. 0. 0.]]\n"
     ]
    }
   ],
   "source": [
    "m = np.zeros((4,8))\n",
    "\n",
    "for i in range(4):\n",
    "    m[i,i] = i + 1\n",
    "\n",
    "print(m)"
   ]
  }
 ],
 "metadata": {
  "interpreter": {
   "hash": "40d3a090f54c6569ab1632332b64b2c03c39dcf918b08424e98f38b5ae0af88f"
  },
  "kernelspec": {
   "display_name": "Python 3.8.5 ('base')",
   "language": "python",
   "name": "python3"
  },
  "language_info": {
   "codemirror_mode": {
    "name": "ipython",
    "version": 3
   },
   "file_extension": ".py",
   "mimetype": "text/x-python",
   "name": "python",
   "nbconvert_exporter": "python",
   "pygments_lexer": "ipython3",
   "version": "3.8.5"
  },
  "orig_nbformat": 4
 },
 "nbformat": 4,
 "nbformat_minor": 2
}
