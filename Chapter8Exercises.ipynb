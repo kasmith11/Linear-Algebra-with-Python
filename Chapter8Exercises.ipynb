{
 "cells": [
  {
   "cell_type": "code",
   "execution_count": 2,
   "metadata": {},
   "outputs": [],
   "source": [
    "import numpy as np\n",
    "from scipy.linalg import null_space"
   ]
  },
  {
   "cell_type": "code",
   "execution_count": 4,
   "metadata": {},
   "outputs": [
    {
     "data": {
      "text/plain": [
       "array([[-0.71073195, -0.21693369],\n",
       "       [-0.05265619, -0.8565744 ],\n",
       "       [ 0.61845066, -0.07481263],\n",
       "       [-0.33106828,  0.46219384]])"
      ]
     },
     "execution_count": 4,
     "metadata": {},
     "output_type": "execute_result"
    }
   ],
   "source": [
    "m = np.random.randn(2,4)\n",
    "\n",
    "null_space(m)"
   ]
  },
  {
   "cell_type": "markdown",
   "metadata": {},
   "source": [
    "# Exercises"
   ]
  },
  {
   "cell_type": "code",
   "execution_count": 8,
   "metadata": {},
   "outputs": [
    {
     "name": "stdout",
     "output_type": "stream",
     "text": [
      "[[-1.11022302e-16]\n",
      " [ 1.11022302e-16]\n",
      " [ 1.11022302e-16]\n",
      " [ 2.77555756e-16]]\n",
      "[[-1.88881887]\n",
      " [ 0.05217549]\n",
      " [-0.48541007]\n",
      " [-0.17092015]]\n"
     ]
    }
   ],
   "source": [
    "m1 = np.random.randn(4,3)@np.random.randn(3,4)\n",
    "m2 = np.random.randn(4,3)@np.random.randn(3,4)\n",
    "\n",
    "n = null_space(m1)\n",
    "\n",
    "print(m2@m1@n) #supposed to be zero matrix but differs due to machine differences\n",
    "print(m1@m2@n)"
   ]
  },
  {
   "cell_type": "code",
   "execution_count": 17,
   "metadata": {},
   "outputs": [
    {
     "name": "stdout",
     "output_type": "stream",
     "text": [
      "11\n",
      "16\n"
     ]
    }
   ],
   "source": [
    "m1 = np.random.randn(16,9)@np.random.randn(9,11)\n",
    "\n",
    "rn = null_space(m1)\n",
    "ln = null_space(m1.T)\n",
    "\n",
    "# since the rank of the matrix equals the dimensions of row spaces equals dimensions of column space\n",
    "r = np.linalg.matrix_rank(m1)\n",
    "\n",
    "print(rn.shape[1] + r)\n",
    "print(ln.shape[1] + r)"
   ]
  }
 ],
 "metadata": {
  "interpreter": {
   "hash": "40d3a090f54c6569ab1632332b64b2c03c39dcf918b08424e98f38b5ae0af88f"
  },
  "kernelspec": {
   "display_name": "Python 3.8.5 ('base')",
   "language": "python",
   "name": "python3"
  },
  "language_info": {
   "codemirror_mode": {
    "name": "ipython",
    "version": 3
   },
   "file_extension": ".py",
   "mimetype": "text/x-python",
   "name": "python",
   "nbconvert_exporter": "python",
   "pygments_lexer": "ipython3",
   "version": "3.8.5"
  },
  "orig_nbformat": 4
 },
 "nbformat": 4,
 "nbformat_minor": 2
}
