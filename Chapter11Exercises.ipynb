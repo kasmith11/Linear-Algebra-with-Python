{
 "cells": [
  {
   "cell_type": "code",
   "execution_count": 20,
   "metadata": {},
   "outputs": [],
   "source": [
    "import numpy as np\n",
    "import matplotlib.pyplot as plt"
   ]
  },
  {
   "cell_type": "markdown",
   "metadata": {},
   "source": [
    "# Calculating Determinant"
   ]
  },
  {
   "cell_type": "code",
   "execution_count": 3,
   "metadata": {},
   "outputs": [
    {
     "data": {
      "text/plain": [
       "0.37622880799539954"
      ]
     },
     "execution_count": 3,
     "metadata": {},
     "output_type": "execute_result"
    }
   ],
   "source": [
    "m = np.random.randn(2,2)\n",
    "\n",
    "np.linalg.det(m)"
   ]
  },
  {
   "cell_type": "markdown",
   "metadata": {},
   "source": [
    "# Code Challenges"
   ]
  },
  {
   "cell_type": "code",
   "execution_count": 10,
   "metadata": {},
   "outputs": [
    {
     "name": "stdout",
     "output_type": "stream",
     "text": [
      "-448512.0000000001\n",
      "-448511.99999999977\n"
     ]
    }
   ],
   "source": [
    "A = np.random.randint(0, 10, (4,4))\n",
    "b = np.random.randint(-10, -1)\n",
    "\n",
    "print(np.linalg.det(b*A))\n",
    "print(b**A.shape[0]*np.linalg.det(A))"
   ]
  },
  {
   "cell_type": "code",
   "execution_count": 25,
   "metadata": {},
   "outputs": [
    {
     "data": {
      "text/plain": [
       "[<matplotlib.lines.Line2D at 0x7f8fdb1cc750>]"
      ]
     },
     "execution_count": 25,
     "metadata": {},
     "output_type": "execute_result"
    },
    {
     "data": {
      "image/png": "[encoded data removed]",
      "text/plain": [
       "<Figure size 432x288 with 1 Axes>"
      ]
     },
     "metadata": {
      "needs_background": "light"
     },
     "output_type": "display_data"
    }
   ],
   "source": [
    "mSize = np.arange(3,31)\n",
    "niter = 10\n",
    "determinants = np.zeros((mSize.shape[0], niter))\n",
    "\n",
    "for i in range(mSize.shape[0]):\n",
    "    for n in range(niter):\n",
    "        A = np.random.randn(mSize[i], mSize[i])\n",
    "        # ensures reduced rank by creating linear dependence in column space\n",
    "        A[:, 0] = A[:, 1]\n",
    "        determinants[i, n] = abs(np.linalg.det(A))\n",
    "\n",
    "plt.plot(np.log(np.mean(determinants, axis = 1)))"
   ]
  }
 ],
 "metadata": {
  "kernelspec": {
   "display_name": "Python 3.7.11 ('sports')",
   "language": "python",
   "name": "python3"
  },
  "language_info": {
   "codemirror_mode": {
    "name": "ipython",
    "version": 3
   },
   "file_extension": ".py",
   "mimetype": "text/x-python",
   "name": "python",
   "nbconvert_exporter": "python",
   "pygments_lexer": "ipython3",
   "version": "3.7.11"
  },
  "orig_nbformat": 4,
  "vscode": {
   "interpreter": {
    "hash": "b85dd906590b17fa34e57c2f7c8ff9cc94029792117a26a17593df291140b908"
   }
  }
 },
 "nbformat": 4,
 "nbformat_minor": 2
}
