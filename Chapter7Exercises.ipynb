{
 "cells": [
  {
   "cell_type": "code",
   "execution_count": 1,
   "metadata": {},
   "outputs": [],
   "source": [
    "import numpy as np"
   ]
  },
  {
   "cell_type": "markdown",
   "metadata": {},
   "source": [
    "# Matrix Rank"
   ]
  },
  {
   "cell_type": "code",
   "execution_count": 2,
   "metadata": {},
   "outputs": [
    {
     "data": {
      "text/plain": [
       "3"
      ]
     },
     "execution_count": 2,
     "metadata": {},
     "output_type": "execute_result"
    }
   ],
   "source": [
    "m = np.random.randn(3,6)\n",
    "\n",
    "np.linalg.matrix_rank(m)"
   ]
  },
  {
   "cell_type": "markdown",
   "metadata": {},
   "source": [
    "# Code Challenges"
   ]
  },
  {
   "cell_type": "code",
   "execution_count": 20,
   "metadata": {},
   "outputs": [
    {
     "name": "stdout",
     "output_type": "stream",
     "text": [
      "[[ 0.7187746  -0.32487551 -1.75967969 -0.0130087   2.3970517   0.71576662\n",
      "  -0.33249523  0.25793054 -0.51907213  0.0813905  -0.09732745  1.77515419]\n",
      " [ 0.06483167 -1.6756014  -1.33622565 -1.15226421  0.59070178 -0.09548301\n",
      "   0.57222785  0.33245551 -0.08716134  0.73797969  0.07581413 -0.29210906]]\n",
      "2\n",
      "2\n",
      "2\n"
     ]
    }
   ],
   "source": [
    "m1 = np.random.randn(10,2)\n",
    "m2 = np.random.randn(2,12)\n",
    "\n",
    "m3 = m1@m2\n",
    "\n",
    "print(m2)\n",
    "print(np.linalg.matrix_rank(m1))\n",
    "print(np.linalg.matrix_rank(m2))\n",
    "print(np.linalg.matrix_rank(m3))"
   ]
  },
  {
   "cell_type": "code",
   "execution_count": 25,
   "metadata": {},
   "outputs": [
    {
     "data": {
      "text/plain": [
       "5"
      ]
     },
     "execution_count": 25,
     "metadata": {},
     "output_type": "execute_result"
    }
   ],
   "source": [
    "m1 = np.zeros((5,5))\n",
    "\n",
    "m2 = m1 + np.random.randn(5,5)\n",
    "np.linalg.matrix_rank(m2)"
   ]
  }
 ],
 "metadata": {
  "interpreter": {
   "hash": "40d3a090f54c6569ab1632332b64b2c03c39dcf918b08424e98f38b5ae0af88f"
  },
  "kernelspec": {
   "display_name": "Python 3.8.5 ('base')",
   "language": "python",
   "name": "python3"
  },
  "language_info": {
   "codemirror_mode": {
    "name": "ipython",
    "version": 3
   },
   "file_extension": ".py",
   "mimetype": "text/x-python",
   "name": "python",
   "nbconvert_exporter": "python",
   "pygments_lexer": "ipython3",
   "version": "3.8.5"
  },
  "orig_nbformat": 4
 },
 "nbformat": 4,
 "nbformat_minor": 2
}
