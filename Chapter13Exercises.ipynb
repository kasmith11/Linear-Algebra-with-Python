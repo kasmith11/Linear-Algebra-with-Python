{
 "cells": [
  {
   "cell_type": "code",
   "execution_count": 1,
   "metadata": {},
   "outputs": [],
   "source": [
    "import numpy as np"
   ]
  },
  {
   "cell_type": "code",
   "execution_count": 3,
   "metadata": {},
   "outputs": [
    {
     "name": "stderr",
     "output_type": "stream",
     "text": [
      "/opt/anaconda3/envs/sports/lib/python3.7/site-packages/ipykernel_launcher.py:6: FutureWarning: `rcond` parameter will change to the default of machine precision times ``max(M, N)`` where M and N are the input matrix dimensions.\n",
      "To use the future default and silence this warning we advise to pass `rcond=None`, to keep using the old, explicitly pass `rcond=-1`.\n",
      "  \n"
     ]
    },
    {
     "data": {
      "text/plain": [
       "(array([ 7., 13.]),\n",
       " array([], dtype=float64),\n",
       " 2,\n",
       " array([3.62258273, 2.20836917]))"
      ]
     },
     "execution_count": 3,
     "metadata": {},
     "output_type": "execute_result"
    }
   ],
   "source": [
    "#least squares\n",
    "\n",
    "A = [-2,2],[1,3]\n",
    "b = [12,46]\n",
    "\n",
    "np.linalg.lstsq(A,b)"
   ]
  },
  {
   "cell_type": "code",
   "execution_count": 2,
   "metadata": {},
   "outputs": [],
   "source": [
    "A = np.random.randn(4,3)\n",
    "\n",
    "Q,R = np.linalg.qr(A)"
   ]
  },
  {
   "cell_type": "code",
   "execution_count": 7,
   "metadata": {},
   "outputs": [],
   "source": [
    "A = np.random.randn(4,4)\n",
    "\n",
    "Q = np.zeros((4,4))\n",
    "\n",
    "def orthogonalize(A, Q):\n",
    "    for i in range(A.shape[0]):\n",
    "        Q[:,i] = A[:,i]\n",
    "\n",
    "        a = A[:,i]\n",
    "\n",
    "        for j in range(i):\n",
    "            q = Q[:,j]\n",
    "            Q[:,i] = Q[:,i] - np.dot(a,q)/np.dot(q,q)*q\n",
    "\n",
    "        Q[:,i] = Q[:,i]/np.linalg.norm(Q[:,i])\n",
    "    return Q\n",
    "\n",
    "\n",
    "Q_test, R = np.linalg.qr(A)"
   ]
  },
  {
   "cell_type": "code",
   "execution_count": 9,
   "metadata": {},
   "outputs": [
    {
     "name": "stdout",
     "output_type": "stream",
     "text": [
      "[[ 0.31622777  0.9486833   0.        ]\n",
      " [ 0.9486833  -0.31622777  0.        ]]\n"
     ]
    }
   ],
   "source": [
    "A = np.array([[1,1,-2], [3,-1,1]])\n",
    "Q = np.zeros((2,3))\n",
    "\n",
    "print(orthogonalize(A,Q))"
   ]
  }
 ],
 "metadata": {
  "kernelspec": {
   "display_name": "Python 3.7.11 ('sports')",
   "language": "python",
   "name": "python3"
  },
  "language_info": {
   "codemirror_mode": {
    "name": "ipython",
    "version": 3
   },
   "file_extension": ".py",
   "mimetype": "text/x-python",
   "name": "python",
   "nbconvert_exporter": "python",
   "pygments_lexer": "ipython3",
   "version": "3.7.11"
  },
  "orig_nbformat": 4,
  "vscode": {
   "interpreter": {
    "hash": "b85dd906590b17fa34e57c2f7c8ff9cc94029792117a26a17593df291140b908"
   }
  }
 },
 "nbformat": 4,
 "nbformat_minor": 2
}
