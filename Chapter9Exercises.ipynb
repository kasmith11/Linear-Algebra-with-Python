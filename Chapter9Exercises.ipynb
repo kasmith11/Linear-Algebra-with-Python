{
 "cells": [
  {
   "cell_type": "code",
   "execution_count": 2,
   "metadata": {},
   "outputs": [],
   "source": [
    "import numpy as np"
   ]
  },
  {
   "cell_type": "markdown",
   "metadata": {},
   "source": [
    "# Complex Number / Matrix"
   ]
  },
  {
   "cell_type": "code",
   "execution_count": 8,
   "metadata": {},
   "outputs": [
    {
     "name": "stderr",
     "output_type": "stream",
     "text": [
      "/opt/anaconda3/envs/sports/lib/python3.7/site-packages/ipykernel_launcher.py:2: DeprecationWarning: `np.complex` is a deprecated alias for the builtin `complex`. To silence this warning, use `complex` by itself. Doing this will not modify any behavior and is safe. If you specifically wanted the numpy scalar type, use `np.complex128` here.\n",
      "Deprecated in NumPy 1.20; for more details and guidance: https://numpy.org/devdocs/release/1.20.0-notes.html#deprecations\n",
      "  \n"
     ]
    }
   ],
   "source": [
    "#number\n",
    "z = np.complex(2,2)\n",
    "z\n",
    "\n",
    "#matrix\n",
    "Z = np.zeros(2, dtype=complex)\n",
    "Z[0] = 2+2j"
   ]
  },
  {
   "cell_type": "code",
   "execution_count": 18,
   "metadata": {},
   "outputs": [
    {
     "name": "stdout",
     "output_type": "stream",
     "text": [
      "[-3.-3.j -3.+1.j -1.+1.j]\n",
      "[-3.+3.j -3.-1.j -1.-1.j]\n"
     ]
    }
   ],
   "source": [
    "m1 = np.random.randint(-3, 4, size = 3)\n",
    "m2 = np.random.randint(-3, 4, size = 3)\n",
    "\n",
    "z = m1+m2*1j\n",
    "print(z)\n",
    "print(z.conj())"
   ]
  },
  {
   "cell_type": "code",
   "execution_count": 19,
   "metadata": {},
   "outputs": [
    {
     "name": "stdout",
     "output_type": "stream",
     "text": [
      "(-4+0j)\n",
      "(4+0j)\n"
     ]
    }
   ],
   "source": [
    "v = [0, 2j]\n",
    "print(np.dot(v,v))\n",
    "print(np.vdot(v,v))"
   ]
  },
  {
   "cell_type": "markdown",
   "metadata": {},
   "source": [
    "# Code Challenges"
   ]
  },
  {
   "cell_type": "code",
   "execution_count": 11,
   "metadata": {},
   "outputs": [
    {
     "name": "stdout",
     "output_type": "stream",
     "text": [
      "[[0.+0.j 4.+0.j]\n",
      " [4.+0.j 0.+0.j]]\n",
      "[[4.+0.j 0.+0.j]\n",
      " [0.+0.j 4.+0.j]]\n"
     ]
    }
   ],
   "source": [
    "u = np.array([[1+1j, 1-1j], [1-1j, 1+1j]])\n",
    "\n",
    "print(u.T@u)\n",
    "print(np.matrix(u).H@u)"
   ]
  },
  {
   "cell_type": "code",
   "execution_count": 16,
   "metadata": {},
   "outputs": [
    {
     "name": "stdout",
     "output_type": "stream",
     "text": [
      "[[ 1.+0.j  -1.+1.j   1.-1.5j]\n",
      " [-1.-1.j  -3.+0.j  -1.-2.5j]\n",
      " [ 1.+1.5j -1.+2.5j  1.+0.j ]]\n",
      "[[ 1.+0.j -3.+2.j  1.-3.j]\n",
      " [-3.-2.j 13.+0.j -9.+7.j]\n",
      " [ 1.+3.j -9.-7.j 10.+0.j]]\n"
     ]
    }
   ],
   "source": [
    "m1 = np.random.randint(-3, 3, size = 3)\n",
    "m2 = np.random.randint(-3, 3, size = 3)\n",
    "\n",
    "z = m1+m2*1j\n",
    "\n",
    "print(0.5*(np.matrix(z).H + z))\n",
    "\n",
    "print(np.matrix(z).H*z)"
   ]
  }
 ],
 "metadata": {
  "kernelspec": {
   "display_name": "Python 3.7.11 ('sports')",
   "language": "python",
   "name": "python3"
  },
  "language_info": {
   "codemirror_mode": {
    "name": "ipython",
    "version": 3
   },
   "file_extension": ".py",
   "mimetype": "text/x-python",
   "name": "python",
   "nbconvert_exporter": "python",
   "pygments_lexer": "ipython3",
   "version": "3.7.11"
  },
  "orig_nbformat": 4,
  "vscode": {
   "interpreter": {
    "hash": "b85dd906590b17fa34e57c2f7c8ff9cc94029792117a26a17593df291140b908"
   }
  }
 },
 "nbformat": 4,
 "nbformat_minor": 2
}
