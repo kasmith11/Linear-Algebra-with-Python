{
 "cells": [
  {
   "cell_type": "code",
   "execution_count": 2,
   "metadata": {},
   "outputs": [],
   "source": [
    "import numpy as np\n",
    "import sympy as sym"
   ]
  },
  {
   "cell_type": "markdown",
   "metadata": {},
   "source": [
    "# MCA Algorithm"
   ]
  },
  {
   "cell_type": "code",
   "execution_count": 4,
   "metadata": {},
   "outputs": [
    {
     "data": {
      "text/plain": [
       "array([[ 1.00000000e+00, -7.08514640e-15, -2.36422783e-16],\n",
       "       [ 1.32271145e-15,  1.00000000e+00, -5.49704200e-17],\n",
       "       [ 1.22883716e-15, -1.04554120e-14,  1.00000000e+00]])"
      ]
     },
     "execution_count": 4,
     "metadata": {},
     "output_type": "execute_result"
    }
   ],
   "source": [
    "m = np.random.randn(3,3)\n",
    "\n",
    "mi = np.linalg.inv(m)\n",
    "\n",
    "m@mi"
   ]
  },
  {
   "cell_type": "markdown",
   "metadata": {},
   "source": [
    "# Inverse via row reduction"
   ]
  },
  {
   "cell_type": "code",
   "execution_count": 2,
   "metadata": {},
   "outputs": [],
   "source": [
    "m = np.random.rand(3,3)\n",
    "\n",
    "mConcat = np.concatenate((m, np.eye(3,3)), axis = 1)\n",
    "\n",
    "mRR = sym.Matrix(mConcat).rref()[0]\n",
    "\n",
    "# keeps what was formally the identify maxrix, now transfored by row reduction\n",
    "mRR = mRR[:, 3:]"
   ]
  },
  {
   "cell_type": "markdown",
   "metadata": {},
   "source": [
    "# Left/Right Inverse"
   ]
  },
  {
   "cell_type": "code",
   "execution_count": 5,
   "metadata": {},
   "outputs": [
    {
     "name": "stdout",
     "output_type": "stream",
     "text": [
      "[[ 1.00000000e+00  3.72479759e-16  1.22227043e-16]\n",
      " [-4.49327669e-16  1.00000000e+00  2.96254039e-16]\n",
      " [ 4.21565535e-16 -6.13979148e-17  1.00000000e+00]]\n",
      "[[ 1.00000000e+00  9.02827280e-17 -6.92923818e-17]\n",
      " [-3.61931571e-17  1.00000000e+00 -1.75246381e-17]\n",
      " [ 3.90367929e-17 -1.32107250e-17  1.00000000e+00]]\n"
     ]
    }
   ],
   "source": [
    "#left inverse\n",
    "m = np.random.randn(5,3)\n",
    "inverseL = np.linalg.inv(m.T@m)@m.T\n",
    "print(inverseL@m)\n",
    "\n",
    "#right inverse\n",
    "n = np.random.randn(3,5)\n",
    "inverseR = n.T@np.linalg.inv(n@n.T)\n",
    "print(n@inverseR)"
   ]
  },
  {
   "cell_type": "markdown",
   "metadata": {},
   "source": [
    "# MP Pseudoinverse"
   ]
  },
  {
   "cell_type": "code",
   "execution_count": 8,
   "metadata": {},
   "outputs": [
    {
     "name": "stdout",
     "output_type": "stream",
     "text": [
      "[[ 0.96890449  0.06239159 -0.1619749 ]\n",
      " [ 0.06239159  0.87481439  0.32499455]\n",
      " [-0.1619749   0.32499455  0.15628112]]\n"
     ]
    }
   ],
   "source": [
    "m = np.random.randn(3,3)\n",
    "\n",
    "m[1, :] = m[0, :]\n",
    "\n",
    "print(np.linalg.pinv(m)@m)"
   ]
  }
 ],
 "metadata": {
  "kernelspec": {
   "display_name": "Python 3.8.5 ('base')",
   "language": "python",
   "name": "python3"
  },
  "language_info": {
   "codemirror_mode": {
    "name": "ipython",
    "version": 3
   },
   "file_extension": ".py",
   "mimetype": "text/x-python",
   "name": "python",
   "nbconvert_exporter": "python",
   "pygments_lexer": "ipython3",
   "version": "3.8.5"
  },
  "orig_nbformat": 4,
  "vscode": {
   "interpreter": {
    "hash": "40d3a090f54c6569ab1632332b64b2c03c39dcf918b08424e98f38b5ae0af88f"
   }
  }
 },
 "nbformat": 4,
 "nbformat_minor": 2
}
