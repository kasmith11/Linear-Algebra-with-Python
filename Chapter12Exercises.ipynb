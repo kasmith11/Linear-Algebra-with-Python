{
 "cells": [
  {
   "cell_type": "code",
   "execution_count": 2,
   "metadata": {},
   "outputs": [],
   "source": [
    "import numpy as np\n",
    "import sympy as sym"
   ]
  },
  {
   "cell_type": "markdown",
   "metadata": {},
   "source": [
    "# MCA Algorithm"
   ]
  },
  {
   "cell_type": "code",
   "execution_count": 4,
   "metadata": {},
   "outputs": [
    {
     "data": {
      "text/plain": [
       "array([[ 1.00000000e+00, -7.08514640e-15, -2.36422783e-16],\n",
       "       [ 1.32271145e-15,  1.00000000e+00, -5.49704200e-17],\n",
       "       [ 1.22883716e-15, -1.04554120e-14,  1.00000000e+00]])"
      ]
     },
     "execution_count": 4,
     "metadata": {},
     "output_type": "execute_result"
    }
   ],
   "source": [
    "m = np.random.randn(3,3)\n",
    "\n",
    "mi = np.linalg.inv(m)\n",
    "\n",
    "m@mi"
   ]
  },
  {
   "cell_type": "markdown",
   "metadata": {},
   "source": [
    "# Inverse via row reduction"
   ]
  },
  {
   "cell_type": "code",
   "execution_count": 2,
   "metadata": {},
   "outputs": [],
   "source": [
    "m = np.random.rand(3,3)\n",
    "\n",
    "mConcat = np.concatenate((m, np.eye(3,3)), axis = 1)\n",
    "\n",
    "mRR = sym.Matrix(mConcat).rref()[0]\n",
    "\n",
    "# keeps what was formally the identify maxrix, now transfored by row reduction\n",
    "mRR = mRR[:, 3:]"
   ]
  },
  {
   "cell_type": "markdown",
   "metadata": {},
   "source": [
    "# Left/Right Inverse"
   ]
  },
  {
   "cell_type": "code",
   "execution_count": 5,
   "metadata": {},
   "outputs": [
    {
     "name": "stdout",
     "output_type": "stream",
     "text": [
      "[[ 1.00000000e+00  3.72479759e-16  1.22227043e-16]\n",
      " [-4.49327669e-16  1.00000000e+00  2.96254039e-16]\n",
      " [ 4.21565535e-16 -6.13979148e-17  1.00000000e+00]]\n",
      "[[ 1.00000000e+00  9.02827280e-17 -6.92923818e-17]\n",
      " [-3.61931571e-17  1.00000000e+00 -1.75246381e-17]\n",
      " [ 3.90367929e-17 -1.32107250e-17  1.00000000e+00]]\n"
     ]
    }
   ],
   "source": [
    "#left inverse\n",
    "m = np.random.randn(5,3)\n",
    "inverseL = np.linalg.inv(m.T@m)@m.T\n",
    "print(inverseL@m)\n",
    "\n",
    "#right inverse\n",
    "n = np.random.randn(3,5)\n",
    "inverseR = n.T@np.linalg.inv(n@n.T)\n",
    "print(n@inverseR)"
   ]
  },
  {
   "cell_type": "markdown",
   "metadata": {},
   "source": [
    "# MP Pseudoinverse"
   ]
  },
  {
   "cell_type": "code",
   "execution_count": 8,
   "metadata": {},
   "outputs": [
    {
     "name": "stdout",
     "output_type": "stream",
     "text": [
      "[[ 0.96890449  0.06239159 -0.1619749 ]\n",
      " [ 0.06239159  0.87481439  0.32499455]\n",
      " [-0.1619749   0.32499455  0.15628112]]\n"
     ]
    }
   ],
   "source": [
    "m = np.random.randn(3,3)\n",
    "\n",
    "m[1, :] = m[0, :]\n",
    "\n",
    "print(np.linalg.pinv(m)@m)"
   ]
  },
  {
   "cell_type": "markdown",
   "metadata": {},
   "source": [
    "# Code Challange"
   ]
  },
  {
   "cell_type": "code",
   "execution_count": 11,
   "metadata": {},
   "outputs": [
    {
     "name": "stdout",
     "output_type": "stream",
     "text": [
      "[[ 2.80903871e+00 -6.31176774e-01  4.95282819e+00 -2.13357977e+00]\n",
      " [ 7.74250351e+00 -3.75256141e+00  1.55094225e+01 -6.74538132e+00]\n",
      " [-2.54884075e+00  9.19119186e-01 -5.63308010e+00  2.87551209e+00]\n",
      " [-7.42877674e-01 -1.13171560e-02 -1.81073520e+00  6.59276036e-02]]\n",
      "[[ 2.80903871e+00 -6.31176774e-01  4.95282819e+00 -2.13357977e+00]\n",
      " [ 7.74250351e+00 -3.75256141e+00  1.55094225e+01 -6.74538132e+00]\n",
      " [-2.54884075e+00  9.19119186e-01 -5.63308010e+00  2.87551209e+00]\n",
      " [-7.42877674e-01 -1.13171560e-02 -1.81073520e+00  6.59276036e-02]]\n"
     ]
    }
   ],
   "source": [
    "size = 4\n",
    "A = np.random.randn(size, size)\n",
    "M = np.zeros((size, size))\n",
    "G = np.zeros((size, size))\n",
    "\n",
    "for i in range(size):\n",
    "    for j in range(size):\n",
    "        rows = [True]*size\n",
    "        rows[i] = False\n",
    "\n",
    "        columns = [True]*size\n",
    "        columns[j] = False\n",
    "\n",
    "        M[i, j] = np.linalg.det(A[rows, :][:, columns])\n",
    "\n",
    "        G[i, j] = (-1)**(i+j)\n",
    "\n",
    "C = G * M\n",
    "\n",
    "print(C.T / np.linalg.det(A))\n",
    "print(np.linalg.inv(A))\n"
   ]
  },
  {
   "cell_type": "code",
   "execution_count": 13,
   "metadata": {},
   "outputs": [
    {
     "name": "stdout",
     "output_type": "stream",
     "text": [
      "PsuedoInverse [[-1.20793313  0.58928281 -0.84228499]\n",
      " [ 1.07744508  0.23999826 -0.4786209 ]\n",
      " [-1.18267631  1.70371492 -1.2895753 ]]\n",
      "Regular Inverse [[-1.20793313  0.58928281 -0.84228499]\n",
      " [ 1.07744508  0.23999826 -0.4786209 ]\n",
      " [-1.18267631  1.70371492 -1.2895753 ]]\n",
      "PsuedoInverse [[ 0.26020733  0.17454477  0.23056022 -0.00874159]\n",
      " [-0.11763442  0.57999109 -0.124658    0.50800481]]\n",
      "Regular Inverse [[ 0.26020733  0.17454477  0.23056022 -0.00874159]\n",
      " [-0.11763442  0.57999109 -0.124658    0.50800481]]\n"
     ]
    }
   ],
   "source": [
    "square = np.random.randn(3,3)\n",
    "\n",
    "print(f'PsuedoInverse {np.linalg.pinv(square)}')\n",
    "print(f'Regular Inverse {np.linalg.inv(square)}')\n",
    "\n",
    "tall = np.random.randn(4,2)\n",
    "print(f'PsuedoInverse {np.linalg.pinv(tall)}')\n",
    "print(f'Regular Inverse {np.linalg.inv(tall.T@tall)@tall.T}')"
   ]
  }
 ],
 "metadata": {
  "kernelspec": {
   "display_name": "Python 3.8.5 ('base')",
   "language": "python",
   "name": "python3"
  },
  "language_info": {
   "codemirror_mode": {
    "name": "ipython",
    "version": 3
   },
   "file_extension": ".py",
   "mimetype": "text/x-python",
   "name": "python",
   "nbconvert_exporter": "python",
   "pygments_lexer": "ipython3",
   "version": "3.8.5"
  },
  "orig_nbformat": 4,
  "vscode": {
   "interpreter": {
    "hash": "40d3a090f54c6569ab1632332b64b2c03c39dcf918b08424e98f38b5ae0af88f"
   }
  }
 },
 "nbformat": 4,
 "nbformat_minor": 2
}
