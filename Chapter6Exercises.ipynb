{
 "cells": [
  {
   "cell_type": "code",
   "execution_count": 2,
   "metadata": {},
   "outputs": [],
   "source": [
    "import numpy as np\n",
    "from numpy.random import randn"
   ]
  },
  {
   "cell_type": "markdown",
   "metadata": {},
   "source": [
    "# Matrix multiplication"
   ]
  },
  {
   "cell_type": "code",
   "execution_count": 4,
   "metadata": {},
   "outputs": [
    {
     "name": "stdout",
     "output_type": "stream",
     "text": [
      "[[ 1.53654297  1.89614265  1.67787192  2.65792929 -0.2179245 ]\n",
      " [-1.00914664 -1.62483757 -1.30939585 -0.61721965  0.75845391]\n",
      " [ 0.25177599 -0.41121937 -0.08141871  0.88161097  0.46667337]\n",
      " [-0.66122459 -2.46595009 -1.52899982 -0.45806866  1.11083434]]\n"
     ]
    }
   ],
   "source": [
    "m1 = randn(4,3)\n",
    "m2 = randn(3,5)\n",
    "\n",
    "print(m1 @ m2)"
   ]
  },
  {
   "cell_type": "markdown",
   "metadata": {},
   "source": [
    "# Hadamard (element-wise) Multiplication"
   ]
  },
  {
   "cell_type": "code",
   "execution_count": 2,
   "metadata": {},
   "outputs": [
    {
     "name": "stdout",
     "output_type": "stream",
     "text": [
      "[[ 0.66296233 -5.98258006 -1.23964023 -0.27729164]\n",
      " [-0.11220731 -0.03355995  1.48524247 -0.72820206]\n",
      " [-0.41153553  0.55635629 -0.62267846  0.07550936]\n",
      " [ 0.41098535 -0.2709707   0.11418412 -1.86365811]]\n"
     ]
    }
   ],
   "source": [
    "m1 = randn(4,4)\n",
    "m2 = randn(4,4)\n",
    "\n",
    "print(m1 * m2)"
   ]
  },
  {
   "cell_type": "markdown",
   "metadata": {},
   "source": [
    "# Vectorizing a Matrix"
   ]
  },
  {
   "cell_type": "code",
   "execution_count": 3,
   "metadata": {},
   "outputs": [
    {
     "name": "stdout",
     "output_type": "stream",
     "text": [
      "[1 4 2 5 3 6]\n"
     ]
    }
   ],
   "source": [
    "M = np.array([ [1,2,3], [4,5,6] ])\n",
    "print(M.flatten(order = 'F'))"
   ]
  },
  {
   "cell_type": "markdown",
   "metadata": {},
   "source": [
    "# Frobenius Dot Product"
   ]
  },
  {
   "cell_type": "code",
   "execution_count": 4,
   "metadata": {},
   "outputs": [
    {
     "name": "stdout",
     "output_type": "stream",
     "text": [
      "0.054974154924251284\n"
     ]
    }
   ],
   "source": [
    "m1 = randn(4,4)\n",
    "m2 = randn(4,4)\n",
    "\n",
    "print(np.trace(m1.T@m2))"
   ]
  },
  {
   "cell_type": "markdown",
   "metadata": {},
   "source": [
    "# Frobenius Norm"
   ]
  },
  {
   "cell_type": "code",
   "execution_count": 2,
   "metadata": {},
   "outputs": [
    {
     "data": {
      "text/plain": [
       "4.440932464248153"
      ]
     },
     "execution_count": 2,
     "metadata": {},
     "output_type": "execute_result"
    }
   ],
   "source": [
    "m = randn(4,4)\n",
    "\n",
    "np.linalg.norm(m, 'fro')"
   ]
  },
  {
   "cell_type": "markdown",
   "metadata": {},
   "source": [
    "# Code Challenges"
   ]
  },
  {
   "cell_type": "code",
   "execution_count": 22,
   "metadata": {},
   "outputs": [
    {
     "name": "stdout",
     "output_type": "stream",
     "text": [
      "[[-0.39841278 -8.30124865  2.09998134]\n",
      " [ 0.83656061  5.5241507   0.18875864]]\n"
     ]
    },
    {
     "data": {
      "text/plain": [
       "array([[-0.39841278, -8.30124865,  2.09998134],\n",
       "       [ 0.83656061,  5.5241507 ,  0.18875864]])"
      ]
     },
     "execution_count": 22,
     "metadata": {},
     "output_type": "execute_result"
    }
   ],
   "source": [
    "m1 = randn(2,4)\n",
    "m2 = randn(4,3)\n",
    "\n",
    "print(m1 @ m2)\n",
    "\n",
    "m3 = np.zeros((2,3))\n",
    "\n",
    "for i in range(m2.shape[0]):\n",
    "    m3 += np.outer(m1[:, i], m2[i, :])\n",
    "\n",
    "m3"
   ]
  },
  {
   "cell_type": "code",
   "execution_count": 24,
   "metadata": {},
   "outputs": [
    {
     "name": "stdout",
     "output_type": "stream",
     "text": [
      "[[ 0.34430276 -0.         -0.         -0.        ]\n",
      " [ 0.          1.10382732  0.          0.        ]\n",
      " [-0.         -0.          6.49750501 -0.        ]\n",
      " [ 0.          0.         -0.         10.33129328]]\n",
      "[[  0.34430276  -3.04282535  -2.96528752  -0.07369432]\n",
      " [  1.63416305   1.10382732   0.39458422   0.42253152]\n",
      " [-10.17475779  -8.24225867   6.49750501  -5.60912518]\n",
      " [  4.65734644   7.66543551  -3.62841345  10.33129328]]\n"
     ]
    }
   ],
   "source": [
    "m1 = np.diag([2,4,6,8])\n",
    "m2 = randn(4,4)\n",
    "\n",
    "#Hadamard Multiplication\n",
    "print(m1 * m2)\n",
    "\n",
    "#Standard\n",
    "print(m1 @ m2)\n",
    "\n",
    "#The diagonals are the same\n"
   ]
  },
  {
   "cell_type": "code",
   "execution_count": 29,
   "metadata": {},
   "outputs": [
    {
     "data": {
      "text/plain": [
       "array([[0., 0., 0., 0.],\n",
       "       [0., 0., 0., 0.],\n",
       "       [0., 0., 0., 0.],\n",
       "       [0., 0., 0., 0.]])"
      ]
     },
     "execution_count": 29,
     "metadata": {},
     "output_type": "execute_result"
    }
   ],
   "source": [
    "m1 = np.diag([2,4,6,8])\n",
    "\n",
    "c1 = (m1.T + m1)/2 \n",
    "c2 = m1.T@m1 \n",
    "\n",
    "c1 - np.sqrt(c2)"
   ]
  },
  {
   "cell_type": "code",
   "execution_count": 55,
   "metadata": {},
   "outputs": [
    {
     "data": {
      "text/plain": [
       "9.40398535682411"
      ]
     },
     "execution_count": 55,
     "metadata": {},
     "output_type": "execute_result"
    }
   ],
   "source": [
    "m1 = randn(2,4)\n",
    "m2.flatten(order = 'F') \n",
    "\n",
    "norm = np.linalg.norm(m1@m2)\n",
    "\n",
    "fro = np.linalg.norm(m1, ord = 'fro') * np.linalg.norm(m2)\n",
    "\n",
    "norm - fro"
   ]
  }
 ],
 "metadata": {
  "interpreter": {
   "hash": "40d3a090f54c6569ab1632332b64b2c03c39dcf918b08424e98f38b5ae0af88f"
  },
  "kernelspec": {
   "display_name": "Python 3.8.5 ('base')",
   "language": "python",
   "name": "python3"
  },
  "language_info": {
   "codemirror_mode": {
    "name": "ipython",
    "version": 3
   },
   "file_extension": ".py",
   "mimetype": "text/x-python",
   "name": "python",
   "nbconvert_exporter": "python",
   "pygments_lexer": "ipython3",
   "version": "3.8.5"
  },
  "orig_nbformat": 4
 },
 "nbformat": 4,
 "nbformat_minor": 2
}
